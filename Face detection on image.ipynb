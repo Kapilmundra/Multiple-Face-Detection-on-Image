{
 "cells": [
  {
   "cell_type": "code",
   "execution_count": 2,
   "metadata": {},
   "outputs": [],
   "source": [
    "import cv2\n",
    "import time\n",
    "face_classifier = \n",
    "cv2.CascadeClassifier('haarcascade_frontalface_default.xml')"
   ]
  },
  {
   "cell_type": "code",
   "execution_count": 23,
   "metadata": {},
   "outputs": [],
   "source": [
    "photo=cv2.imread(\"multiple-faces.jpg\")\n",
    "faces = face_classifier.detectMultiScale(photo, 1.3, 5)\n",
    "if faces is ():\n",
    "    pass\n",
    "count=0\n",
    "for (x,y,w,h) in faces:\n",
    "    photo=cv2.rectangle(photo,(x,y),(x+w,y+h),[0,255,0],5)\n",
    "    count+=1\n",
    "\n",
    "cv2.putText(photo, str(count), (520, 500), cv2.FONT_HERSHEY_COMPLEX, 2, (0,0,255), 5)\n",
    "resize_photo=cv2.resize(photo, (int(photo.shape[1]/2),int(photo.shape[0]/2)))\n",
    "cv2.imshow('Multiple faces detection',resize_photo)\n",
    "\n",
    "cv2.waitKey()\n",
    "cv2.destroyAllWindows()\n",
    "cap.release()"
   ]
  },
  {
   "cell_type": "code",
   "execution_count": null,
   "metadata": {},
   "outputs": [],
   "source": []
  }
 ],
 "metadata": {
  "kernelspec": {
   "display_name": "Python 3",
   "language": "python",
   "name": "python3"
  },
  "language_info": {
   "codemirror_mode": {
    "name": "ipython",
    "version": 3
   },
   "file_extension": ".py",
   "mimetype": "text/x-python",
   "name": "python",
   "nbconvert_exporter": "python",
   "pygments_lexer": "ipython3",
   "version": "3.7.3"
  }
 },
 "nbformat": 4,
 "nbformat_minor": 4
}
